{
 "cells": [
  {
   "cell_type": "markdown",
   "metadata": {},
   "source": [
    "# Project 3: Web APIs & NLP"
   ]
  },
  {
   "cell_type": "markdown",
   "metadata": {},
   "source": [
    "## Import libraries"
   ]
  },
  {
   "cell_type": "code",
   "execution_count": 2,
   "metadata": {},
   "outputs": [],
   "source": [
    "import requests\n",
    "import pandas as pd\n",
    "import seaborn as sns\n",
    "import matplotlib.pyplot as plt\n",
    "import time\n",
    "import numpy as np\n",
    "import re\n",
    "\n",
    "from sklearn.model_selection import train_test_split, GridSearchCV, cross_val_score\n",
    "from sklearn.feature_extraction.text import CountVectorizer, TfidfVectorizer\n",
    "from sklearn.pipeline import Pipeline\n",
    "from sklearn.naive_bayes import MultinomialNB, GaussianNB\n",
    "from sklearn.linear_model import LogisticRegression\n",
    "from sklearn.metrics import confusion_matrix, plot_confusion_matrix\n",
    "from sklearn.svm import LinearSVC, SVC\n",
    "from sklearn import datasets\n",
    "from sklearn.ensemble import RandomForestClassifier, ExtraTreesClassifier\n",
    "\n",
    "from nltk.tokenize import sent_tokenize, word_tokenize, RegexpTokenizer\n",
    "from nltk.stem import WordNetLemmatizer\n",
    "from nltk.stem.porter import PorterStemmer\n",
    "from nltk.corpus import stopwords\n",
    "from nltk.sentiment.vader import SentimentIntensityAnalyzer\n"
   ]
  },
  {
   "cell_type": "markdown",
   "metadata": {},
   "source": [
    "## Scrape Reddit's API"
   ]
  },
  {
   "cell_type": "code",
   "execution_count": 3,
   "metadata": {},
   "outputs": [],
   "source": [
    "url = 'https://api.pushshift.io/reddit/search/submission'"
   ]
  },
  {
   "cell_type": "code",
   "execution_count": 3,
   "metadata": {},
   "outputs": [],
   "source": [
    "# Got help from Nolan and Billy\n",
    "\n",
    "#Build function that scrapes 5000 posts from a subreddit\n",
    "def subreddit_scraper(subreddit):\n",
    "    params = {\n",
    "        'subreddit': subreddit,\n",
    "        'size': 100,\n",
    "    }\n",
    "    \n",
    "    res = requests.get(url, params)\n",
    "    \n",
    "    data = res.json()\n",
    "    \n",
    "    sub_posts = data['data']\n",
    "    \n",
    "    for i in range(49):\n",
    "            utc = sub_posts[-1]['created_utc']\n",
    "            params = {\n",
    "                'subreddit': subreddit,\n",
    "                'size': 100,\n",
    "                'before': utc\n",
    "            }\n",
    "            data = requests.get(url, params)\n",
    "            data = data.json()['data']\n",
    "            sub_posts += data\n",
    "            time.sleep(1)\n",
    "    \n",
    "    return sub_posts"
   ]
  },
  {
   "cell_type": "code",
   "execution_count": 270,
   "metadata": {},
   "outputs": [
    {
     "name": "stdout",
     "output_type": "stream",
     "text": [
      "Wall time: 6min 22s\n"
     ]
    }
   ],
   "source": [
    "%%time\n",
    "\n",
    "hiphop_posts = subreddit_scraper('hiphopheads')"
   ]
  },
  {
   "cell_type": "code",
   "execution_count": 271,
   "metadata": {},
   "outputs": [
    {
     "data": {
      "text/plain": [
       "5000"
      ]
     },
     "execution_count": 271,
     "metadata": {},
     "output_type": "execute_result"
    }
   ],
   "source": [
    "len(hiphop_posts)"
   ]
  },
  {
   "cell_type": "code",
   "execution_count": 274,
   "metadata": {},
   "outputs": [
    {
     "name": "stdout",
     "output_type": "stream",
     "text": [
      "Wall time: 6min 21s\n"
     ]
    }
   ],
   "source": [
    "%%time\n",
    "\n",
    "indie_posts = subreddit_scraper('indieheads')"
   ]
  },
  {
   "cell_type": "code",
   "execution_count": 275,
   "metadata": {},
   "outputs": [
    {
     "data": {
      "text/plain": [
       "5000"
      ]
     },
     "execution_count": 275,
     "metadata": {},
     "output_type": "execute_result"
    }
   ],
   "source": [
    "len(indie_posts)"
   ]
  },
  {
   "cell_type": "markdown",
   "metadata": {},
   "source": [
    "## Create a dataframe from scraped posts"
   ]
  },
  {
   "cell_type": "code",
   "execution_count": 276,
   "metadata": {},
   "outputs": [],
   "source": [
    "# Make a dataframe for r/hiphopheads posts\n",
    "hiphop_df = pd.DataFrame(hiphop_posts)\n",
    "# hiphop_df.head()"
   ]
  },
  {
   "cell_type": "code",
   "execution_count": 277,
   "metadata": {},
   "outputs": [],
   "source": [
    "# Make a dataframe for r/indieheads posts\n",
    "indie_df = pd.DataFrame(indie_posts)\n",
    "# indie_df.head()"
   ]
  },
  {
   "cell_type": "code",
   "execution_count": 278,
   "metadata": {},
   "outputs": [
    {
     "data": {
      "text/html": [
       "<div>\n",
       "<style scoped>\n",
       "    .dataframe tbody tr th:only-of-type {\n",
       "        vertical-align: middle;\n",
       "    }\n",
       "\n",
       "    .dataframe tbody tr th {\n",
       "        vertical-align: top;\n",
       "    }\n",
       "\n",
       "    .dataframe thead th {\n",
       "        text-align: right;\n",
       "    }\n",
       "</style>\n",
       "<table border=\"1\" class=\"dataframe\">\n",
       "  <thead>\n",
       "    <tr style=\"text-align: right;\">\n",
       "      <th></th>\n",
       "      <th>subreddit</th>\n",
       "      <th>selftext</th>\n",
       "      <th>title</th>\n",
       "    </tr>\n",
       "  </thead>\n",
       "  <tbody>\n",
       "    <tr>\n",
       "      <th>0</th>\n",
       "      <td>hiphopheads</td>\n",
       "      <td></td>\n",
       "      <td>I got scammed badly....</td>\n",
       "    </tr>\n",
       "    <tr>\n",
       "      <th>1</th>\n",
       "      <td>hiphopheads</td>\n",
       "      <td></td>\n",
       "      <td>[ORIGINAL] Just did my own EP and self-release...</td>\n",
       "    </tr>\n",
       "    <tr>\n",
       "      <th>2</th>\n",
       "      <td>hiphopheads</td>\n",
       "      <td>[removed]</td>\n",
       "      <td>NuEminem is actually more skilled than the ori...</td>\n",
       "    </tr>\n",
       "    <tr>\n",
       "      <th>3</th>\n",
       "      <td>hiphopheads</td>\n",
       "      <td></td>\n",
       "      <td>AAAC Wildlife Removal of Cincinnati &amp;amp;#x2d;...</td>\n",
       "    </tr>\n",
       "    <tr>\n",
       "      <th>4</th>\n",
       "      <td>hiphopheads</td>\n",
       "      <td>[removed]</td>\n",
       "      <td>ASAP Mob Says \"Yams Day 2021\" Will Be Virtual</td>\n",
       "    </tr>\n",
       "  </tbody>\n",
       "</table>\n",
       "</div>"
      ],
      "text/plain": [
       "     subreddit   selftext                                              title\n",
       "0  hiphopheads                                       I got scammed badly....\n",
       "1  hiphopheads             [ORIGINAL] Just did my own EP and self-release...\n",
       "2  hiphopheads  [removed]  NuEminem is actually more skilled than the ori...\n",
       "3  hiphopheads             AAAC Wildlife Removal of Cincinnati &amp;#x2d;...\n",
       "4  hiphopheads  [removed]      ASAP Mob Says \"Yams Day 2021\" Will Be Virtual"
      ]
     },
     "execution_count": 278,
     "metadata": {},
     "output_type": "execute_result"
    }
   ],
   "source": [
    "# Make columns\n",
    "hiphop_df = hiphop_df[['subreddit', 'selftext', 'title']]\n",
    "hiphop_df.head()"
   ]
  },
  {
   "cell_type": "code",
   "execution_count": 279,
   "metadata": {},
   "outputs": [
    {
     "data": {
      "text/plain": [
       "(5000, 3)"
      ]
     },
     "execution_count": 279,
     "metadata": {},
     "output_type": "execute_result"
    }
   ],
   "source": [
    "hiphop_df.shape"
   ]
  },
  {
   "cell_type": "code",
   "execution_count": 280,
   "metadata": {},
   "outputs": [
    {
     "data": {
      "text/html": [
       "<div>\n",
       "<style scoped>\n",
       "    .dataframe tbody tr th:only-of-type {\n",
       "        vertical-align: middle;\n",
       "    }\n",
       "\n",
       "    .dataframe tbody tr th {\n",
       "        vertical-align: top;\n",
       "    }\n",
       "\n",
       "    .dataframe thead th {\n",
       "        text-align: right;\n",
       "    }\n",
       "</style>\n",
       "<table border=\"1\" class=\"dataframe\">\n",
       "  <thead>\n",
       "    <tr style=\"text-align: right;\">\n",
       "      <th></th>\n",
       "      <th>subreddit</th>\n",
       "      <th>selftext</th>\n",
       "      <th>title</th>\n",
       "    </tr>\n",
       "  </thead>\n",
       "  <tbody>\n",
       "    <tr>\n",
       "      <th>0</th>\n",
       "      <td>indieheads</td>\n",
       "      <td></td>\n",
       "      <td>[FRESH] Sun Kil Moon - Welcome to Sparks, Nevada</td>\n",
       "    </tr>\n",
       "    <tr>\n",
       "      <th>1</th>\n",
       "      <td>indieheads</td>\n",
       "      <td></td>\n",
       "      <td>[FRESH ALBUM] Quantum Crossroads | The King's ...</td>\n",
       "    </tr>\n",
       "    <tr>\n",
       "      <th>2</th>\n",
       "      <td>indieheads</td>\n",
       "      <td>[deleted]</td>\n",
       "      <td>[ORIGINAL] Timothy - Alone (Acoustic | Live in...</td>\n",
       "    </tr>\n",
       "    <tr>\n",
       "      <th>3</th>\n",
       "      <td>indieheads</td>\n",
       "      <td></td>\n",
       "      <td>Joan Baez to Receive 2020 Kennedy Center Honor</td>\n",
       "    </tr>\n",
       "    <tr>\n",
       "      <th>4</th>\n",
       "      <td>indieheads</td>\n",
       "      <td>[deleted]</td>\n",
       "      <td>[Speculation] New music on the way for Sufjan ...</td>\n",
       "    </tr>\n",
       "  </tbody>\n",
       "</table>\n",
       "</div>"
      ],
      "text/plain": [
       "    subreddit   selftext                                              title\n",
       "0  indieheads              [FRESH] Sun Kil Moon - Welcome to Sparks, Nevada\n",
       "1  indieheads             [FRESH ALBUM] Quantum Crossroads | The King's ...\n",
       "2  indieheads  [deleted]  [ORIGINAL] Timothy - Alone (Acoustic | Live in...\n",
       "3  indieheads                Joan Baez to Receive 2020 Kennedy Center Honor\n",
       "4  indieheads  [deleted]  [Speculation] New music on the way for Sufjan ..."
      ]
     },
     "execution_count": 280,
     "metadata": {},
     "output_type": "execute_result"
    }
   ],
   "source": [
    "# Make columns\n",
    "indie_df = indie_df[['subreddit', 'selftext', 'title']]\n",
    "indie_df.head()"
   ]
  },
  {
   "cell_type": "code",
   "execution_count": 281,
   "metadata": {},
   "outputs": [
    {
     "data": {
      "text/plain": [
       "(5000, 3)"
      ]
     },
     "execution_count": 281,
     "metadata": {},
     "output_type": "execute_result"
    }
   ],
   "source": [
    "indie_df.shape"
   ]
  },
  {
   "cell_type": "code",
   "execution_count": 282,
   "metadata": {},
   "outputs": [],
   "source": [
    "# Concatenate both dataframes\n",
    "df = pd.concat([hiphop_df, indie_df])"
   ]
  },
  {
   "cell_type": "code",
   "execution_count": 283,
   "metadata": {},
   "outputs": [
    {
     "data": {
      "text/html": [
       "<div>\n",
       "<style scoped>\n",
       "    .dataframe tbody tr th:only-of-type {\n",
       "        vertical-align: middle;\n",
       "    }\n",
       "\n",
       "    .dataframe tbody tr th {\n",
       "        vertical-align: top;\n",
       "    }\n",
       "\n",
       "    .dataframe thead th {\n",
       "        text-align: right;\n",
       "    }\n",
       "</style>\n",
       "<table border=\"1\" class=\"dataframe\">\n",
       "  <thead>\n",
       "    <tr style=\"text-align: right;\">\n",
       "      <th></th>\n",
       "      <th>subreddit</th>\n",
       "      <th>selftext</th>\n",
       "      <th>title</th>\n",
       "    </tr>\n",
       "  </thead>\n",
       "  <tbody>\n",
       "    <tr>\n",
       "      <th>0</th>\n",
       "      <td>hiphopheads</td>\n",
       "      <td></td>\n",
       "      <td>I got scammed badly....</td>\n",
       "    </tr>\n",
       "    <tr>\n",
       "      <th>1</th>\n",
       "      <td>hiphopheads</td>\n",
       "      <td></td>\n",
       "      <td>[ORIGINAL] Just did my own EP and self-release...</td>\n",
       "    </tr>\n",
       "    <tr>\n",
       "      <th>2</th>\n",
       "      <td>hiphopheads</td>\n",
       "      <td>[removed]</td>\n",
       "      <td>NuEminem is actually more skilled than the ori...</td>\n",
       "    </tr>\n",
       "    <tr>\n",
       "      <th>3</th>\n",
       "      <td>hiphopheads</td>\n",
       "      <td></td>\n",
       "      <td>AAAC Wildlife Removal of Cincinnati &amp;amp;#x2d;...</td>\n",
       "    </tr>\n",
       "    <tr>\n",
       "      <th>4</th>\n",
       "      <td>hiphopheads</td>\n",
       "      <td>[removed]</td>\n",
       "      <td>ASAP Mob Says \"Yams Day 2021\" Will Be Virtual</td>\n",
       "    </tr>\n",
       "  </tbody>\n",
       "</table>\n",
       "</div>"
      ],
      "text/plain": [
       "     subreddit   selftext                                              title\n",
       "0  hiphopheads                                       I got scammed badly....\n",
       "1  hiphopheads             [ORIGINAL] Just did my own EP and self-release...\n",
       "2  hiphopheads  [removed]  NuEminem is actually more skilled than the ori...\n",
       "3  hiphopheads             AAAC Wildlife Removal of Cincinnati &amp;#x2d;...\n",
       "4  hiphopheads  [removed]      ASAP Mob Says \"Yams Day 2021\" Will Be Virtual"
      ]
     },
     "execution_count": 283,
     "metadata": {},
     "output_type": "execute_result"
    }
   ],
   "source": [
    "df.head()"
   ]
  },
  {
   "cell_type": "code",
   "execution_count": 284,
   "metadata": {},
   "outputs": [
    {
     "data": {
      "text/html": [
       "<div>\n",
       "<style scoped>\n",
       "    .dataframe tbody tr th:only-of-type {\n",
       "        vertical-align: middle;\n",
       "    }\n",
       "\n",
       "    .dataframe tbody tr th {\n",
       "        vertical-align: top;\n",
       "    }\n",
       "\n",
       "    .dataframe thead th {\n",
       "        text-align: right;\n",
       "    }\n",
       "</style>\n",
       "<table border=\"1\" class=\"dataframe\">\n",
       "  <thead>\n",
       "    <tr style=\"text-align: right;\">\n",
       "      <th></th>\n",
       "      <th>subreddit</th>\n",
       "      <th>selftext</th>\n",
       "      <th>title</th>\n",
       "    </tr>\n",
       "  </thead>\n",
       "  <tbody>\n",
       "    <tr>\n",
       "      <th>4995</th>\n",
       "      <td>indieheads</td>\n",
       "      <td></td>\n",
       "      <td>Litti-XAVVY (Hip hop/Rap) 2020</td>\n",
       "    </tr>\n",
       "    <tr>\n",
       "      <th>4996</th>\n",
       "      <td>indieheads</td>\n",
       "      <td></td>\n",
       "      <td>[ORIGINAL] Sara Wolff - You Like Talking About...</td>\n",
       "    </tr>\n",
       "    <tr>\n",
       "      <th>4997</th>\n",
       "      <td>indieheads</td>\n",
       "      <td></td>\n",
       "      <td>[FRESH] Cemal Bilge Özşar - Yangın Geldiğinde;</td>\n",
       "    </tr>\n",
       "    <tr>\n",
       "      <th>4998</th>\n",
       "      <td>indieheads</td>\n",
       "      <td></td>\n",
       "      <td>[FRESH] Lupin (Hippo Campus) - KO Kid (Live fr...</td>\n",
       "    </tr>\n",
       "    <tr>\n",
       "      <th>4999</th>\n",
       "      <td>indieheads</td>\n",
       "      <td></td>\n",
       "      <td>Ever listened to Turkish Indie Music? Well, ch...</td>\n",
       "    </tr>\n",
       "  </tbody>\n",
       "</table>\n",
       "</div>"
      ],
      "text/plain": [
       "       subreddit selftext                                              title\n",
       "4995  indieheads                              Litti-XAVVY (Hip hop/Rap) 2020\n",
       "4996  indieheads           [ORIGINAL] Sara Wolff - You Like Talking About...\n",
       "4997  indieheads              [FRESH] Cemal Bilge Özşar - Yangın Geldiğinde;\n",
       "4998  indieheads           [FRESH] Lupin (Hippo Campus) - KO Kid (Live fr...\n",
       "4999  indieheads           Ever listened to Turkish Indie Music? Well, ch..."
      ]
     },
     "execution_count": 284,
     "metadata": {},
     "output_type": "execute_result"
    }
   ],
   "source": [
    "df.tail()"
   ]
  },
  {
   "cell_type": "code",
   "execution_count": 285,
   "metadata": {},
   "outputs": [],
   "source": [
    "# Make a new column that binarizes the subreddits (hiphopheads = 1, indieheads = 0)\n",
    "\n",
    "df['hiphop_or_indie'] = np.where(df['subreddit'] == 'hiphopheads', 1, 0)"
   ]
  },
  {
   "cell_type": "code",
   "execution_count": 286,
   "metadata": {},
   "outputs": [
    {
     "data": {
      "text/html": [
       "<div>\n",
       "<style scoped>\n",
       "    .dataframe tbody tr th:only-of-type {\n",
       "        vertical-align: middle;\n",
       "    }\n",
       "\n",
       "    .dataframe tbody tr th {\n",
       "        vertical-align: top;\n",
       "    }\n",
       "\n",
       "    .dataframe thead th {\n",
       "        text-align: right;\n",
       "    }\n",
       "</style>\n",
       "<table border=\"1\" class=\"dataframe\">\n",
       "  <thead>\n",
       "    <tr style=\"text-align: right;\">\n",
       "      <th></th>\n",
       "      <th>subreddit</th>\n",
       "      <th>selftext</th>\n",
       "      <th>title</th>\n",
       "      <th>hiphop_or_indie</th>\n",
       "    </tr>\n",
       "  </thead>\n",
       "  <tbody>\n",
       "    <tr>\n",
       "      <th>0</th>\n",
       "      <td>hiphopheads</td>\n",
       "      <td></td>\n",
       "      <td>I got scammed badly....</td>\n",
       "      <td>1</td>\n",
       "    </tr>\n",
       "    <tr>\n",
       "      <th>1</th>\n",
       "      <td>hiphopheads</td>\n",
       "      <td></td>\n",
       "      <td>[ORIGINAL] Just did my own EP and self-release...</td>\n",
       "      <td>1</td>\n",
       "    </tr>\n",
       "    <tr>\n",
       "      <th>2</th>\n",
       "      <td>hiphopheads</td>\n",
       "      <td>[removed]</td>\n",
       "      <td>NuEminem is actually more skilled than the ori...</td>\n",
       "      <td>1</td>\n",
       "    </tr>\n",
       "    <tr>\n",
       "      <th>3</th>\n",
       "      <td>hiphopheads</td>\n",
       "      <td></td>\n",
       "      <td>AAAC Wildlife Removal of Cincinnati &amp;amp;#x2d;...</td>\n",
       "      <td>1</td>\n",
       "    </tr>\n",
       "    <tr>\n",
       "      <th>4</th>\n",
       "      <td>hiphopheads</td>\n",
       "      <td>[removed]</td>\n",
       "      <td>ASAP Mob Says \"Yams Day 2021\" Will Be Virtual</td>\n",
       "      <td>1</td>\n",
       "    </tr>\n",
       "  </tbody>\n",
       "</table>\n",
       "</div>"
      ],
      "text/plain": [
       "     subreddit   selftext                                              title  \\\n",
       "0  hiphopheads                                       I got scammed badly....   \n",
       "1  hiphopheads             [ORIGINAL] Just did my own EP and self-release...   \n",
       "2  hiphopheads  [removed]  NuEminem is actually more skilled than the ori...   \n",
       "3  hiphopheads             AAAC Wildlife Removal of Cincinnati &amp;#x2d;...   \n",
       "4  hiphopheads  [removed]      ASAP Mob Says \"Yams Day 2021\" Will Be Virtual   \n",
       "\n",
       "   hiphop_or_indie  \n",
       "0                1  \n",
       "1                1  \n",
       "2                1  \n",
       "3                1  \n",
       "4                1  "
      ]
     },
     "execution_count": 286,
     "metadata": {},
     "output_type": "execute_result"
    }
   ],
   "source": [
    "df.head()"
   ]
  },
  {
   "cell_type": "code",
   "execution_count": 287,
   "metadata": {},
   "outputs": [],
   "source": [
    "# Combine selftext and title with a space between them\n",
    "df['selftext_&_title'] = df['selftext'] + ' ' + df['title']"
   ]
  },
  {
   "cell_type": "code",
   "execution_count": 288,
   "metadata": {},
   "outputs": [
    {
     "data": {
      "text/html": [
       "<div>\n",
       "<style scoped>\n",
       "    .dataframe tbody tr th:only-of-type {\n",
       "        vertical-align: middle;\n",
       "    }\n",
       "\n",
       "    .dataframe tbody tr th {\n",
       "        vertical-align: top;\n",
       "    }\n",
       "\n",
       "    .dataframe thead th {\n",
       "        text-align: right;\n",
       "    }\n",
       "</style>\n",
       "<table border=\"1\" class=\"dataframe\">\n",
       "  <thead>\n",
       "    <tr style=\"text-align: right;\">\n",
       "      <th></th>\n",
       "      <th>subreddit</th>\n",
       "      <th>selftext</th>\n",
       "      <th>title</th>\n",
       "      <th>hiphop_or_indie</th>\n",
       "      <th>selftext_&amp;_title</th>\n",
       "    </tr>\n",
       "  </thead>\n",
       "  <tbody>\n",
       "    <tr>\n",
       "      <th>0</th>\n",
       "      <td>hiphopheads</td>\n",
       "      <td></td>\n",
       "      <td>I got scammed badly....</td>\n",
       "      <td>1</td>\n",
       "      <td>I got scammed badly....</td>\n",
       "    </tr>\n",
       "    <tr>\n",
       "      <th>1</th>\n",
       "      <td>hiphopheads</td>\n",
       "      <td></td>\n",
       "      <td>[ORIGINAL] Just did my own EP and self-release...</td>\n",
       "      <td>1</td>\n",
       "      <td>[ORIGINAL] Just did my own EP and self-releas...</td>\n",
       "    </tr>\n",
       "    <tr>\n",
       "      <th>2</th>\n",
       "      <td>hiphopheads</td>\n",
       "      <td>[removed]</td>\n",
       "      <td>NuEminem is actually more skilled than the ori...</td>\n",
       "      <td>1</td>\n",
       "      <td>[removed] NuEminem is actually more skilled th...</td>\n",
       "    </tr>\n",
       "    <tr>\n",
       "      <th>3</th>\n",
       "      <td>hiphopheads</td>\n",
       "      <td></td>\n",
       "      <td>AAAC Wildlife Removal of Cincinnati &amp;amp;#x2d;...</td>\n",
       "      <td>1</td>\n",
       "      <td>AAAC Wildlife Removal of Cincinnati &amp;amp;#x2d...</td>\n",
       "    </tr>\n",
       "    <tr>\n",
       "      <th>4</th>\n",
       "      <td>hiphopheads</td>\n",
       "      <td>[removed]</td>\n",
       "      <td>ASAP Mob Says \"Yams Day 2021\" Will Be Virtual</td>\n",
       "      <td>1</td>\n",
       "      <td>[removed] ASAP Mob Says \"Yams Day 2021\" Will B...</td>\n",
       "    </tr>\n",
       "  </tbody>\n",
       "</table>\n",
       "</div>"
      ],
      "text/plain": [
       "     subreddit   selftext                                              title  \\\n",
       "0  hiphopheads                                       I got scammed badly....   \n",
       "1  hiphopheads             [ORIGINAL] Just did my own EP and self-release...   \n",
       "2  hiphopheads  [removed]  NuEminem is actually more skilled than the ori...   \n",
       "3  hiphopheads             AAAC Wildlife Removal of Cincinnati &amp;#x2d;...   \n",
       "4  hiphopheads  [removed]      ASAP Mob Says \"Yams Day 2021\" Will Be Virtual   \n",
       "\n",
       "   hiphop_or_indie                                   selftext_&_title  \n",
       "0                1                            I got scammed badly....  \n",
       "1                1   [ORIGINAL] Just did my own EP and self-releas...  \n",
       "2                1  [removed] NuEminem is actually more skilled th...  \n",
       "3                1   AAAC Wildlife Removal of Cincinnati &amp;#x2d...  \n",
       "4                1  [removed] ASAP Mob Says \"Yams Day 2021\" Will B...  "
      ]
     },
     "execution_count": 288,
     "metadata": {},
     "output_type": "execute_result"
    }
   ],
   "source": [
    "df.head()"
   ]
  },
  {
   "cell_type": "code",
   "execution_count": 289,
   "metadata": {},
   "outputs": [
    {
     "data": {
      "text/plain": [
       "subreddit            0\n",
       "selftext            16\n",
       "title                0\n",
       "hiphop_or_indie      0\n",
       "selftext_&_title    16\n",
       "dtype: int64"
      ]
     },
     "execution_count": 289,
     "metadata": {},
     "output_type": "execute_result"
    }
   ],
   "source": [
    "# Count null values\n",
    "df.isnull().sum()"
   ]
  },
  {
   "cell_type": "code",
   "execution_count": 290,
   "metadata": {},
   "outputs": [
    {
     "data": {
      "text/plain": [
       "subreddit           0\n",
       "selftext            0\n",
       "title               0\n",
       "hiphop_or_indie     0\n",
       "selftext_&_title    0\n",
       "dtype: int64"
      ]
     },
     "execution_count": 290,
     "metadata": {},
     "output_type": "execute_result"
    }
   ],
   "source": [
    "# Drop null values\n",
    "\n",
    "df.dropna(inplace=True)\n",
    "df.isnull().sum()"
   ]
  },
  {
   "cell_type": "code",
   "execution_count": 291,
   "metadata": {},
   "outputs": [
    {
     "data": {
      "text/html": [
       "<div>\n",
       "<style scoped>\n",
       "    .dataframe tbody tr th:only-of-type {\n",
       "        vertical-align: middle;\n",
       "    }\n",
       "\n",
       "    .dataframe tbody tr th {\n",
       "        vertical-align: top;\n",
       "    }\n",
       "\n",
       "    .dataframe thead th {\n",
       "        text-align: right;\n",
       "    }\n",
       "</style>\n",
       "<table border=\"1\" class=\"dataframe\">\n",
       "  <thead>\n",
       "    <tr style=\"text-align: right;\">\n",
       "      <th></th>\n",
       "      <th>subreddit</th>\n",
       "      <th>selftext</th>\n",
       "      <th>title</th>\n",
       "      <th>hiphop_or_indie</th>\n",
       "      <th>selftext_&amp;_title</th>\n",
       "    </tr>\n",
       "  </thead>\n",
       "  <tbody>\n",
       "    <tr>\n",
       "      <th>0</th>\n",
       "      <td>hiphopheads</td>\n",
       "      <td></td>\n",
       "      <td>I got scammed badly....</td>\n",
       "      <td>1</td>\n",
       "      <td>I got scammed badly....</td>\n",
       "    </tr>\n",
       "    <tr>\n",
       "      <th>1</th>\n",
       "      <td>hiphopheads</td>\n",
       "      <td></td>\n",
       "      <td>[ORIGINAL] Just did my own EP and self-release...</td>\n",
       "      <td>1</td>\n",
       "      <td>[ORIGINAL] Just did my own EP and self-releas...</td>\n",
       "    </tr>\n",
       "    <tr>\n",
       "      <th>2</th>\n",
       "      <td>hiphopheads</td>\n",
       "      <td>[removed]</td>\n",
       "      <td>NuEminem is actually more skilled than the ori...</td>\n",
       "      <td>1</td>\n",
       "      <td>[removed] NuEminem is actually more skilled th...</td>\n",
       "    </tr>\n",
       "    <tr>\n",
       "      <th>3</th>\n",
       "      <td>hiphopheads</td>\n",
       "      <td></td>\n",
       "      <td>AAAC Wildlife Removal of Cincinnati &amp;amp;#x2d;...</td>\n",
       "      <td>1</td>\n",
       "      <td>AAAC Wildlife Removal of Cincinnati &amp;amp;#x2d...</td>\n",
       "    </tr>\n",
       "    <tr>\n",
       "      <th>4</th>\n",
       "      <td>hiphopheads</td>\n",
       "      <td>[removed]</td>\n",
       "      <td>ASAP Mob Says \"Yams Day 2021\" Will Be Virtual</td>\n",
       "      <td>1</td>\n",
       "      <td>[removed] ASAP Mob Says \"Yams Day 2021\" Will B...</td>\n",
       "    </tr>\n",
       "  </tbody>\n",
       "</table>\n",
       "</div>"
      ],
      "text/plain": [
       "     subreddit   selftext                                              title  \\\n",
       "0  hiphopheads                                       I got scammed badly....   \n",
       "1  hiphopheads             [ORIGINAL] Just did my own EP and self-release...   \n",
       "2  hiphopheads  [removed]  NuEminem is actually more skilled than the ori...   \n",
       "3  hiphopheads             AAAC Wildlife Removal of Cincinnati &amp;#x2d;...   \n",
       "4  hiphopheads  [removed]      ASAP Mob Says \"Yams Day 2021\" Will Be Virtual   \n",
       "\n",
       "   hiphop_or_indie                                   selftext_&_title  \n",
       "0                1                            I got scammed badly....  \n",
       "1                1   [ORIGINAL] Just did my own EP and self-releas...  \n",
       "2                1  [removed] NuEminem is actually more skilled th...  \n",
       "3                1   AAAC Wildlife Removal of Cincinnati &amp;#x2d...  \n",
       "4                1  [removed] ASAP Mob Says \"Yams Day 2021\" Will B...  "
      ]
     },
     "execution_count": 291,
     "metadata": {},
     "output_type": "execute_result"
    }
   ],
   "source": [
    "df.head()"
   ]
  },
  {
   "cell_type": "code",
   "execution_count": 292,
   "metadata": {},
   "outputs": [],
   "source": [
    "# Indices appear twice because dataframes were concatenated, so index was reset\n",
    "# Referred to this page: https://www.geeksforgeeks.org/python-pandas-dataframe-reset_index/\n",
    "\n",
    "df.reset_index(inplace=True)"
   ]
  },
  {
   "cell_type": "code",
   "execution_count": 293,
   "metadata": {},
   "outputs": [
    {
     "data": {
      "text/plain": [
       "(9984, 6)"
      ]
     },
     "execution_count": 293,
     "metadata": {},
     "output_type": "execute_result"
    }
   ],
   "source": [
    "df.shape"
   ]
  },
  {
   "cell_type": "code",
   "execution_count": 294,
   "metadata": {},
   "outputs": [
    {
     "data": {
      "text/plain": [
       "index                int64\n",
       "subreddit           object\n",
       "selftext            object\n",
       "title               object\n",
       "hiphop_or_indie      int32\n",
       "selftext_&_title    object\n",
       "dtype: object"
      ]
     },
     "execution_count": 294,
     "metadata": {},
     "output_type": "execute_result"
    }
   ],
   "source": [
    "df.dtypes"
   ]
  },
  {
   "cell_type": "code",
   "execution_count": 295,
   "metadata": {},
   "outputs": [],
   "source": [
    "# Save dataframe in a csv file\n",
    "\n",
    "df.to_csv('./data/df.csv')"
   ]
  },
  {
   "cell_type": "code",
   "execution_count": 4,
   "metadata": {},
   "outputs": [],
   "source": [
    "# Read in csv\n",
    "df = pd.read_csv('./data/df.csv')"
   ]
  },
  {
   "cell_type": "code",
   "execution_count": 5,
   "metadata": {},
   "outputs": [
    {
     "data": {
      "text/html": [
       "<div>\n",
       "<style scoped>\n",
       "    .dataframe tbody tr th:only-of-type {\n",
       "        vertical-align: middle;\n",
       "    }\n",
       "\n",
       "    .dataframe tbody tr th {\n",
       "        vertical-align: top;\n",
       "    }\n",
       "\n",
       "    .dataframe thead th {\n",
       "        text-align: right;\n",
       "    }\n",
       "</style>\n",
       "<table border=\"1\" class=\"dataframe\">\n",
       "  <thead>\n",
       "    <tr style=\"text-align: right;\">\n",
       "      <th></th>\n",
       "      <th>subreddit</th>\n",
       "      <th>selftext</th>\n",
       "      <th>title</th>\n",
       "      <th>hiphop_or_indie</th>\n",
       "      <th>selftext_&amp;_title</th>\n",
       "    </tr>\n",
       "  </thead>\n",
       "  <tbody>\n",
       "    <tr>\n",
       "      <th>0</th>\n",
       "      <td>hiphopheads</td>\n",
       "      <td>NaN</td>\n",
       "      <td>I got scammed badly....</td>\n",
       "      <td>1</td>\n",
       "      <td>I got scammed badly....</td>\n",
       "    </tr>\n",
       "    <tr>\n",
       "      <th>1</th>\n",
       "      <td>hiphopheads</td>\n",
       "      <td>NaN</td>\n",
       "      <td>[ORIGINAL] Just did my own EP and self-release...</td>\n",
       "      <td>1</td>\n",
       "      <td>[ORIGINAL] Just did my own EP and self-releas...</td>\n",
       "    </tr>\n",
       "    <tr>\n",
       "      <th>2</th>\n",
       "      <td>hiphopheads</td>\n",
       "      <td>[removed]</td>\n",
       "      <td>NuEminem is actually more skilled than the ori...</td>\n",
       "      <td>1</td>\n",
       "      <td>[removed] NuEminem is actually more skilled th...</td>\n",
       "    </tr>\n",
       "    <tr>\n",
       "      <th>3</th>\n",
       "      <td>hiphopheads</td>\n",
       "      <td>NaN</td>\n",
       "      <td>AAAC Wildlife Removal of Cincinnati &amp;amp;#x2d;...</td>\n",
       "      <td>1</td>\n",
       "      <td>AAAC Wildlife Removal of Cincinnati &amp;amp;#x2d...</td>\n",
       "    </tr>\n",
       "    <tr>\n",
       "      <th>4</th>\n",
       "      <td>hiphopheads</td>\n",
       "      <td>[removed]</td>\n",
       "      <td>ASAP Mob Says \"Yams Day 2021\" Will Be Virtual</td>\n",
       "      <td>1</td>\n",
       "      <td>[removed] ASAP Mob Says \"Yams Day 2021\" Will B...</td>\n",
       "    </tr>\n",
       "    <tr>\n",
       "      <th>...</th>\n",
       "      <td>...</td>\n",
       "      <td>...</td>\n",
       "      <td>...</td>\n",
       "      <td>...</td>\n",
       "      <td>...</td>\n",
       "    </tr>\n",
       "    <tr>\n",
       "      <th>9979</th>\n",
       "      <td>indieheads</td>\n",
       "      <td>NaN</td>\n",
       "      <td>Litti-XAVVY (Hip hop/Rap) 2020</td>\n",
       "      <td>0</td>\n",
       "      <td>Litti-XAVVY (Hip hop/Rap) 2020</td>\n",
       "    </tr>\n",
       "    <tr>\n",
       "      <th>9980</th>\n",
       "      <td>indieheads</td>\n",
       "      <td>NaN</td>\n",
       "      <td>[ORIGINAL] Sara Wolff - You Like Talking About...</td>\n",
       "      <td>0</td>\n",
       "      <td>[ORIGINAL] Sara Wolff - You Like Talking Abou...</td>\n",
       "    </tr>\n",
       "    <tr>\n",
       "      <th>9981</th>\n",
       "      <td>indieheads</td>\n",
       "      <td>NaN</td>\n",
       "      <td>[FRESH] Cemal Bilge Özşar - Yangın Geldiğinde;</td>\n",
       "      <td>0</td>\n",
       "      <td>[FRESH] Cemal Bilge Özşar - Yangın Geldiğinde;</td>\n",
       "    </tr>\n",
       "    <tr>\n",
       "      <th>9982</th>\n",
       "      <td>indieheads</td>\n",
       "      <td>NaN</td>\n",
       "      <td>[FRESH] Lupin (Hippo Campus) - KO Kid (Live fr...</td>\n",
       "      <td>0</td>\n",
       "      <td>[FRESH] Lupin (Hippo Campus) - KO Kid (Live f...</td>\n",
       "    </tr>\n",
       "    <tr>\n",
       "      <th>9983</th>\n",
       "      <td>indieheads</td>\n",
       "      <td>NaN</td>\n",
       "      <td>Ever listened to Turkish Indie Music? Well, ch...</td>\n",
       "      <td>0</td>\n",
       "      <td>Ever listened to Turkish Indie Music? Well, c...</td>\n",
       "    </tr>\n",
       "  </tbody>\n",
       "</table>\n",
       "<p>9984 rows × 5 columns</p>\n",
       "</div>"
      ],
      "text/plain": [
       "        subreddit   selftext  \\\n",
       "0     hiphopheads        NaN   \n",
       "1     hiphopheads        NaN   \n",
       "2     hiphopheads  [removed]   \n",
       "3     hiphopheads        NaN   \n",
       "4     hiphopheads  [removed]   \n",
       "...           ...        ...   \n",
       "9979   indieheads        NaN   \n",
       "9980   indieheads        NaN   \n",
       "9981   indieheads        NaN   \n",
       "9982   indieheads        NaN   \n",
       "9983   indieheads        NaN   \n",
       "\n",
       "                                                  title  hiphop_or_indie  \\\n",
       "0                               I got scammed badly....                1   \n",
       "1     [ORIGINAL] Just did my own EP and self-release...                1   \n",
       "2     NuEminem is actually more skilled than the ori...                1   \n",
       "3     AAAC Wildlife Removal of Cincinnati &amp;#x2d;...                1   \n",
       "4         ASAP Mob Says \"Yams Day 2021\" Will Be Virtual                1   \n",
       "...                                                 ...              ...   \n",
       "9979                     Litti-XAVVY (Hip hop/Rap) 2020                0   \n",
       "9980  [ORIGINAL] Sara Wolff - You Like Talking About...                0   \n",
       "9981     [FRESH] Cemal Bilge Özşar - Yangın Geldiğinde;                0   \n",
       "9982  [FRESH] Lupin (Hippo Campus) - KO Kid (Live fr...                0   \n",
       "9983  Ever listened to Turkish Indie Music? Well, ch...                0   \n",
       "\n",
       "                                       selftext_&_title  \n",
       "0                               I got scammed badly....  \n",
       "1      [ORIGINAL] Just did my own EP and self-releas...  \n",
       "2     [removed] NuEminem is actually more skilled th...  \n",
       "3      AAAC Wildlife Removal of Cincinnati &amp;#x2d...  \n",
       "4     [removed] ASAP Mob Says \"Yams Day 2021\" Will B...  \n",
       "...                                                 ...  \n",
       "9979                     Litti-XAVVY (Hip hop/Rap) 2020  \n",
       "9980   [ORIGINAL] Sara Wolff - You Like Talking Abou...  \n",
       "9981     [FRESH] Cemal Bilge Özşar - Yangın Geldiğinde;  \n",
       "9982   [FRESH] Lupin (Hippo Campus) - KO Kid (Live f...  \n",
       "9983   Ever listened to Turkish Indie Music? Well, c...  \n",
       "\n",
       "[9984 rows x 5 columns]"
      ]
     },
     "execution_count": 5,
     "metadata": {},
     "output_type": "execute_result"
    }
   ],
   "source": [
    "# Drop unnecessary columns\n",
    "df.drop(['Unnamed: 0', 'index'], axis=1, inplace=True)\n",
    "df"
   ]
  },
  {
   "cell_type": "markdown",
   "metadata": {},
   "source": [
    "## Create Tokenizer And Lemmatizier"
   ]
  },
  {
   "cell_type": "code",
   "execution_count": 6,
   "metadata": {},
   "outputs": [],
   "source": [
    "# Instantiate tokenzier that splits tokens up by spaces or by periods that are not attached to a digit\n",
    "# Referred to lesson 5.03\n",
    "\n",
    "tokenizer = RegexpTokenizer('\\w+|\\$[\\d\\.]+|\\S+')"
   ]
  },
  {
   "cell_type": "code",
   "execution_count": 7,
   "metadata": {},
   "outputs": [],
   "source": [
    "# Instantiate lemmatizer.\n",
    "\n",
    "lemmatizer = WordNetLemmatizer()"
   ]
  },
  {
   "cell_type": "code",
   "execution_count": 8,
   "metadata": {},
   "outputs": [
    {
     "data": {
      "text/plain": [
       "Index(['subreddit', 'selftext', 'title', 'hiphop_or_indie',\n",
       "       'selftext_&_title'],\n",
       "      dtype='object')"
      ]
     },
     "execution_count": 8,
     "metadata": {},
     "output_type": "execute_result"
    }
   ],
   "source": [
    "df.columns"
   ]
  },
  {
   "cell_type": "code",
   "execution_count": 9,
   "metadata": {},
   "outputs": [],
   "source": [
    "# Build for loop that tokenizes, lemmatizes, and cleans the data\n",
    "# Referred to this page: https://stackoverflow.com/questions/1276764/stripping-everything-but-alphanumeric-chars-from-a-string-in-python\n",
    "\n",
    "df['self_title_tok_lem'] = ''\n",
    "\n",
    "for i in range(len(df['selftext_&_title'])):\n",
    "    \n",
    "    # Remove URLs\n",
    "    # Referred to this page: https://stackoverflow.com/questions/11331982/how-to-remove-any-url-within-a-string-in-python/11332580\n",
    "    no_url = []\n",
    "    no_url.append(re.sub(r'http\\S+', '', df['selftext_&_title'][i]))\n",
    "    \n",
    "    # Tokenize the 'selftext_&_title' column\n",
    "    tok = []\n",
    "    token_self_title = tokenizer.tokenize(no_url[0])\n",
    "    tok.extend(token_self_title) # Extend is used instead of append because it adds elements from the iterable\n",
    "    \n",
    "    # Drop duplicate tokens\n",
    "    tok_list = []\n",
    "    [tok_list.append(x) for x in tok if x not in tok_list]\n",
    "    \n",
    "    # Lemmatize\n",
    "    tokens_lem = [lemmatizer.lemmatize(t) for t in tok_list]\n",
    "    \n",
    "    # Remove non alphanumeric characters\n",
    "    only_alphanum = []\n",
    "    for a in range(len(tokens_lem)):\n",
    "        only_alphanum.append(re.sub(r'\\W+', '', tokens_lem[a]))\n",
    "    \n",
    "    only_alphanum = ' '.join(only_alphanum)\n",
    "    \n",
    "    # Referred to this page: https://pandas.pydata.org/pandas-docs/stable/user_guide/indexing.html#returning-a-view-versus-a-copy\n",
    "    df.loc[i, 'self_title_tok_lem'] = only_alphanum\n",
    "    \n",
    "    "
   ]
  },
  {
   "cell_type": "code",
   "execution_count": 10,
   "metadata": {},
   "outputs": [
    {
     "data": {
      "text/html": [
       "<div>\n",
       "<style scoped>\n",
       "    .dataframe tbody tr th:only-of-type {\n",
       "        vertical-align: middle;\n",
       "    }\n",
       "\n",
       "    .dataframe tbody tr th {\n",
       "        vertical-align: top;\n",
       "    }\n",
       "\n",
       "    .dataframe thead th {\n",
       "        text-align: right;\n",
       "    }\n",
       "</style>\n",
       "<table border=\"1\" class=\"dataframe\">\n",
       "  <thead>\n",
       "    <tr style=\"text-align: right;\">\n",
       "      <th></th>\n",
       "      <th>subreddit</th>\n",
       "      <th>selftext</th>\n",
       "      <th>title</th>\n",
       "      <th>hiphop_or_indie</th>\n",
       "      <th>selftext_&amp;_title</th>\n",
       "      <th>self_title_tok_lem</th>\n",
       "    </tr>\n",
       "  </thead>\n",
       "  <tbody>\n",
       "    <tr>\n",
       "      <th>0</th>\n",
       "      <td>hiphopheads</td>\n",
       "      <td>NaN</td>\n",
       "      <td>I got scammed badly....</td>\n",
       "      <td>1</td>\n",
       "      <td>I got scammed badly....</td>\n",
       "      <td>I got scammed badly</td>\n",
       "    </tr>\n",
       "    <tr>\n",
       "      <th>1</th>\n",
       "      <td>hiphopheads</td>\n",
       "      <td>NaN</td>\n",
       "      <td>[ORIGINAL] Just did my own EP and self-release...</td>\n",
       "      <td>1</td>\n",
       "      <td>[ORIGINAL] Just did my own EP and self-releas...</td>\n",
       "      <td>ORIGINAL Just did my own EP and self released ...</td>\n",
       "    </tr>\n",
       "    <tr>\n",
       "      <th>2</th>\n",
       "      <td>hiphopheads</td>\n",
       "      <td>[removed]</td>\n",
       "      <td>NuEminem is actually more skilled than the ori...</td>\n",
       "      <td>1</td>\n",
       "      <td>[removed] NuEminem is actually more skilled th...</td>\n",
       "      <td>removed NuEminem is actually more skilled than...</td>\n",
       "    </tr>\n",
       "    <tr>\n",
       "      <th>3</th>\n",
       "      <td>hiphopheads</td>\n",
       "      <td>NaN</td>\n",
       "      <td>AAAC Wildlife Removal of Cincinnati &amp;amp;#x2d;...</td>\n",
       "      <td>1</td>\n",
       "      <td>AAAC Wildlife Removal of Cincinnati &amp;amp;#x2d...</td>\n",
       "      <td>AAAC Wildlife Removal of Cincinnati ampx2d Tra...</td>\n",
       "    </tr>\n",
       "    <tr>\n",
       "      <th>4</th>\n",
       "      <td>hiphopheads</td>\n",
       "      <td>[removed]</td>\n",
       "      <td>ASAP Mob Says \"Yams Day 2021\" Will Be Virtual</td>\n",
       "      <td>1</td>\n",
       "      <td>[removed] ASAP Mob Says \"Yams Day 2021\" Will B...</td>\n",
       "      <td>removed ASAP Mob Says Yams Day 2021  Will Be V...</td>\n",
       "    </tr>\n",
       "    <tr>\n",
       "      <th>...</th>\n",
       "      <td>...</td>\n",
       "      <td>...</td>\n",
       "      <td>...</td>\n",
       "      <td>...</td>\n",
       "      <td>...</td>\n",
       "      <td>...</td>\n",
       "    </tr>\n",
       "    <tr>\n",
       "      <th>9979</th>\n",
       "      <td>indieheads</td>\n",
       "      <td>NaN</td>\n",
       "      <td>Litti-XAVVY (Hip hop/Rap) 2020</td>\n",
       "      <td>0</td>\n",
       "      <td>Litti-XAVVY (Hip hop/Rap) 2020</td>\n",
       "      <td>Litti XAVVY Hip hop Rap 2020</td>\n",
       "    </tr>\n",
       "    <tr>\n",
       "      <th>9980</th>\n",
       "      <td>indieheads</td>\n",
       "      <td>NaN</td>\n",
       "      <td>[ORIGINAL] Sara Wolff - You Like Talking About...</td>\n",
       "      <td>0</td>\n",
       "      <td>[ORIGINAL] Sara Wolff - You Like Talking Abou...</td>\n",
       "      <td>ORIGINAL Sara Wolff  You Like Talking About Yo...</td>\n",
       "    </tr>\n",
       "    <tr>\n",
       "      <th>9981</th>\n",
       "      <td>indieheads</td>\n",
       "      <td>NaN</td>\n",
       "      <td>[FRESH] Cemal Bilge Özşar - Yangın Geldiğinde;</td>\n",
       "      <td>0</td>\n",
       "      <td>[FRESH] Cemal Bilge Özşar - Yangın Geldiğinde;</td>\n",
       "      <td>FRESH Cemal Bilge Özşar  Yangın Geldiğinde</td>\n",
       "    </tr>\n",
       "    <tr>\n",
       "      <th>9982</th>\n",
       "      <td>indieheads</td>\n",
       "      <td>NaN</td>\n",
       "      <td>[FRESH] Lupin (Hippo Campus) - KO Kid (Live fr...</td>\n",
       "      <td>0</td>\n",
       "      <td>[FRESH] Lupin (Hippo Campus) - KO Kid (Live f...</td>\n",
       "      <td>FRESH Lupin Hippo Campus   KO Kid Live from th...</td>\n",
       "    </tr>\n",
       "    <tr>\n",
       "      <th>9983</th>\n",
       "      <td>indieheads</td>\n",
       "      <td>NaN</td>\n",
       "      <td>Ever listened to Turkish Indie Music? Well, ch...</td>\n",
       "      <td>0</td>\n",
       "      <td>Ever listened to Turkish Indie Music? Well, c...</td>\n",
       "      <td>Ever listened to Turkish Indie Music  Well  ch...</td>\n",
       "    </tr>\n",
       "  </tbody>\n",
       "</table>\n",
       "<p>9984 rows × 6 columns</p>\n",
       "</div>"
      ],
      "text/plain": [
       "        subreddit   selftext  \\\n",
       "0     hiphopheads        NaN   \n",
       "1     hiphopheads        NaN   \n",
       "2     hiphopheads  [removed]   \n",
       "3     hiphopheads        NaN   \n",
       "4     hiphopheads  [removed]   \n",
       "...           ...        ...   \n",
       "9979   indieheads        NaN   \n",
       "9980   indieheads        NaN   \n",
       "9981   indieheads        NaN   \n",
       "9982   indieheads        NaN   \n",
       "9983   indieheads        NaN   \n",
       "\n",
       "                                                  title  hiphop_or_indie  \\\n",
       "0                               I got scammed badly....                1   \n",
       "1     [ORIGINAL] Just did my own EP and self-release...                1   \n",
       "2     NuEminem is actually more skilled than the ori...                1   \n",
       "3     AAAC Wildlife Removal of Cincinnati &amp;#x2d;...                1   \n",
       "4         ASAP Mob Says \"Yams Day 2021\" Will Be Virtual                1   \n",
       "...                                                 ...              ...   \n",
       "9979                     Litti-XAVVY (Hip hop/Rap) 2020                0   \n",
       "9980  [ORIGINAL] Sara Wolff - You Like Talking About...                0   \n",
       "9981     [FRESH] Cemal Bilge Özşar - Yangın Geldiğinde;                0   \n",
       "9982  [FRESH] Lupin (Hippo Campus) - KO Kid (Live fr...                0   \n",
       "9983  Ever listened to Turkish Indie Music? Well, ch...                0   \n",
       "\n",
       "                                       selftext_&_title  \\\n",
       "0                               I got scammed badly....   \n",
       "1      [ORIGINAL] Just did my own EP and self-releas...   \n",
       "2     [removed] NuEminem is actually more skilled th...   \n",
       "3      AAAC Wildlife Removal of Cincinnati &amp;#x2d...   \n",
       "4     [removed] ASAP Mob Says \"Yams Day 2021\" Will B...   \n",
       "...                                                 ...   \n",
       "9979                     Litti-XAVVY (Hip hop/Rap) 2020   \n",
       "9980   [ORIGINAL] Sara Wolff - You Like Talking Abou...   \n",
       "9981     [FRESH] Cemal Bilge Özşar - Yangın Geldiğinde;   \n",
       "9982   [FRESH] Lupin (Hippo Campus) - KO Kid (Live f...   \n",
       "9983   Ever listened to Turkish Indie Music? Well, c...   \n",
       "\n",
       "                                     self_title_tok_lem  \n",
       "0                                  I got scammed badly   \n",
       "1     ORIGINAL Just did my own EP and self released ...  \n",
       "2     removed NuEminem is actually more skilled than...  \n",
       "3     AAAC Wildlife Removal of Cincinnati ampx2d Tra...  \n",
       "4     removed ASAP Mob Says Yams Day 2021  Will Be V...  \n",
       "...                                                 ...  \n",
       "9979                       Litti XAVVY Hip hop Rap 2020  \n",
       "9980  ORIGINAL Sara Wolff  You Like Talking About Yo...  \n",
       "9981        FRESH Cemal Bilge Özşar  Yangın Geldiğinde   \n",
       "9982  FRESH Lupin Hippo Campus   KO Kid Live from th...  \n",
       "9983  Ever listened to Turkish Indie Music  Well  ch...  \n",
       "\n",
       "[9984 rows x 6 columns]"
      ]
     },
     "execution_count": 10,
     "metadata": {},
     "output_type": "execute_result"
    }
   ],
   "source": [
    "df"
   ]
  },
  {
   "cell_type": "code",
   "execution_count": 13,
   "metadata": {},
   "outputs": [
    {
     "data": {
      "text/plain": [
       "subreddit             object\n",
       "selftext              object\n",
       "title                 object\n",
       "hiphop_or_indie        int64\n",
       "selftext_&_title      object\n",
       "self_title_tok_lem    object\n",
       "dtype: object"
      ]
     },
     "execution_count": 13,
     "metadata": {},
     "output_type": "execute_result"
    }
   ],
   "source": [
    "# Look at the datatypes for each column\n",
    "df.dtypes"
   ]
  },
  {
   "cell_type": "code",
   "execution_count": 19,
   "metadata": {},
   "outputs": [],
   "source": [
    "# Use CountVectorizer to find the most common 2-word phrases (bigrams)\n",
    "cvec = CountVectorizer(ngram_range=(2, 2)) # Only plotting for bigrams because plotting for trigrams returns a MemoryError\n",
    "cvec.fit(df['selftext_&_title'])\n",
    "cvec_self_title = cvec.transform(df['selftext_&_title'])\n",
    "\n",
    "before_tok_lem = pd.DataFrame(cvec_self_title.todense(), \n",
    "                          columns=cvec.get_feature_names())"
   ]
  },
  {
   "cell_type": "code",
   "execution_count": 20,
   "metadata": {},
   "outputs": [
    {
     "data": {
      "image/png": "[encoded data removed]",
      "text/plain": [
       "<Figure size 720x576 with 1 Axes>"
      ]
     },
     "metadata": {
      "needs_background": "light"
     },
     "output_type": "display_data"
    }
   ],
   "source": [
    "# Plot bigrams\n",
    "plt.figure(figsize=(10, 8))\n",
    "before_tok_lem.sum().sort_values(ascending=False).head(10).plot(kind='barh')\n",
    "plt.title('Top Occuring 2-Word Phrases Before Cleaning', fontsize=12);"
   ]
  },
  {
   "cell_type": "code",
   "execution_count": 21,
   "metadata": {},
   "outputs": [],
   "source": [
    "# Repeat the previous cells, but with the tokenized/lemmatized column\n",
    "cvec = CountVectorizer(ngram_range=(2, 2)) # Only plotting for bigrams because plotting for trigrams returns a MemoryError\n",
    "cvec.fit(df['self_title_tok_lem'])\n",
    "cvec_self_title = cvec.transform(df['self_title_tok_lem'])\n",
    "\n",
    "after_tok_lem = pd.DataFrame(cvec_self_title.todense(), \n",
    "                          columns=cvec.get_feature_names())"
   ]
  },
  {
   "cell_type": "code",
   "execution_count": 22,
   "metadata": {},
   "outputs": [
    {
     "data": {
      "image/png": "[encoded data removed]",
      "text/plain": [
       "<Figure size 720x576 with 1 Axes>"
      ]
     },
     "metadata": {
      "needs_background": "light"
     },
     "output_type": "display_data"
    }
   ],
   "source": [
    "# Plot bigrams\n",
    "plt.figure(figsize=(10, 8))\n",
    "after_tok_lem.sum().sort_values(ascending=False).head(10).plot(kind='barh')\n",
    "plt.title('Top Occuring 2-Word Phrases After Cleaning', fontsize=12);"
   ]
  },
  {
   "cell_type": "markdown",
   "metadata": {},
   "source": [
    "As shown in the two bar charts above, the top occuring 2-word phrases change after the reddit posts were cleaned, tokenized, and lemmatized. This discards meaningless occurances (such as URLs) and phrases that tend to appear a lot in both r/HipHopHeads and r/Indieheads."
   ]
  },
  {
   "cell_type": "markdown",
   "metadata": {},
   "source": [
    "## Stopwords"
   ]
  },
  {
   "cell_type": "markdown",
   "metadata": {},
   "source": [
    "Since the phrases shown in the post-cleaning bar chart frequently appear in both subreddits, they will be added to stopwords."
   ]
  },
  {
   "cell_type": "code",
   "execution_count": 24,
   "metadata": {},
   "outputs": [],
   "source": [
    "# No ngrams specified because a MemoryError kept occuring\n",
    "cvec = CountVectorizer(stop_words=['if', 'you', 'music', 'video', 'of', '2020', 'the',\n",
    "                                                       'in', 'this', 'is', 'hip', 'hop', 'mf', 'doom',\n",
    "                                                       'fresh', 'album'])\n",
    "\n",
    "cvec.fit(df['self_title_tok_lem'])\n",
    "cvec_self_title = cvec.transform(df['self_title_tok_lem'])\n",
    "\n",
    "stopwords_removed = pd.DataFrame(cvec_self_title.todense(), \n",
    "                          columns=cvec.get_feature_names())"
   ]
  },
  {
   "cell_type": "code",
   "execution_count": 26,
   "metadata": {},
   "outputs": [
    {
     "data": {
      "image/png": "[encoded data removed]",
      "text/plain": [
       "<Figure size 720x576 with 1 Axes>"
      ]
     },
     "metadata": {
      "needs_background": "light"
     },
     "output_type": "display_data"
    }
   ],
   "source": [
    "# Plot most common words\n",
    "plt.figure(figsize=(10, 8))\n",
    "stopwords_removed.sum().sort_values(ascending=False).head(10).plot(kind='barh')\n",
    "plt.title('Top Occuring Words After Cleaning, Stopwords Removed', fontsize=12);"
   ]
  },
  {
   "cell_type": "markdown",
   "metadata": {},
   "source": [
    "The bar chart above shows the top occuring words after cleanining and removing the specified stopwords."
   ]
  },
  {
   "cell_type": "markdown",
   "metadata": {},
   "source": [
    "## Variable Selection"
   ]
  },
  {
   "cell_type": "code",
   "execution_count": 14,
   "metadata": {},
   "outputs": [],
   "source": [
    "# Referred to lesson 5.04\n",
    "# Assign X and y variables to columns\n",
    "X = df['self_title_tok_lem']\n",
    "y = df['hiphop_or_indie'] # target"
   ]
  },
  {
   "cell_type": "code",
   "execution_count": 15,
   "metadata": {},
   "outputs": [
    {
     "data": {
      "text/plain": [
       "0    0.5002\n",
       "1    0.4998\n",
       "Name: hiphop_or_indie, dtype: float64"
      ]
     },
     "execution_count": 15,
     "metadata": {},
     "output_type": "execute_result"
    }
   ],
   "source": [
    "# baseline\n",
    "y.value_counts(normalize=True)"
   ]
  },
  {
   "cell_type": "code",
   "execution_count": 16,
   "metadata": {},
   "outputs": [
    {
     "data": {
      "text/plain": [
       "0.5002003205128205"
      ]
     },
     "execution_count": 16,
     "metadata": {},
     "output_type": "execute_result"
    }
   ],
   "source": [
    "1 - y.mean()"
   ]
  },
  {
   "cell_type": "code",
   "execution_count": 17,
   "metadata": {},
   "outputs": [],
   "source": [
    "# Redefine training and testing sets.\n",
    "X_train, X_test, y_train, y_test = train_test_split(X,\n",
    "                                                    y,\n",
    "                                                    test_size=0.33,\n",
    "                                                    stratify=y,\n",
    "                                                    random_state=42)"
   ]
  },
  {
   "cell_type": "code",
   "execution_count": 18,
   "metadata": {},
   "outputs": [
    {
     "data": {
      "text/plain": [
       "0    0.500152\n",
       "1    0.499848\n",
       "Name: hiphop_or_indie, dtype: float64"
      ]
     },
     "execution_count": 18,
     "metadata": {},
     "output_type": "execute_result"
    }
   ],
   "source": [
    "y_test.value_counts(normalize=True)"
   ]
  },
  {
   "cell_type": "markdown",
   "metadata": {},
   "source": [
    "## Modeling"
   ]
  },
  {
   "cell_type": "markdown",
   "metadata": {},
   "source": [
    "### Multinomial Naive Bayes with CountVectorizer"
   ]
  },
  {
   "cell_type": "code",
   "execution_count": 32,
   "metadata": {},
   "outputs": [],
   "source": [
    "# Let's set a pipeline up with two stages:\n",
    "# 1. CountVectorizer (transformer)\n",
    "# 2. Multinomial Naive Bayes (estimator)\n",
    "\n",
    "pipe = Pipeline([\n",
    "    ('cvec', CountVectorizer(stop_words=['if', 'you', 'music', 'video', 'of', '2020', 'the',\n",
    "                                                       'in', 'this', 'is', 'hip', 'hop', 'mf', 'doom',\n",
    "                                                       'fresh', 'album'])),\n",
    "    ('nb', MultinomialNB())\n",
    "])"
   ]
  },
  {
   "cell_type": "code",
   "execution_count": 33,
   "metadata": {},
   "outputs": [
    {
     "data": {
      "text/plain": [
       "0.8144735015601517"
      ]
     },
     "execution_count": 33,
     "metadata": {},
     "output_type": "execute_result"
    }
   ],
   "source": [
    "# Estimate how the model will perform on unseen data\n",
    "cross_val_score(pipe, X_train, y_train, cv=3).mean()"
   ]
  },
  {
   "cell_type": "code",
   "execution_count": 34,
   "metadata": {},
   "outputs": [
    {
     "data": {
      "text/plain": [
       "Pipeline(steps=[('cvec',\n",
       "                 CountVectorizer(stop_words=['if', 'you', 'music', 'video',\n",
       "                                             'of', '2020', 'the', 'in', 'this',\n",
       "                                             'is', 'hip', 'hop', 'mf', 'doom',\n",
       "                                             'fresh', 'album'])),\n",
       "                ('nb', MultinomialNB())])"
      ]
     },
     "execution_count": 34,
     "metadata": {},
     "output_type": "execute_result"
    }
   ],
   "source": [
    "pipe.fit(X_train, y_train)"
   ]
  },
  {
   "cell_type": "code",
   "execution_count": 35,
   "metadata": {},
   "outputs": [
    {
     "data": {
      "text/plain": [
       "0.9280908955000747"
      ]
     },
     "execution_count": 35,
     "metadata": {},
     "output_type": "execute_result"
    }
   ],
   "source": [
    "pipe.score(X_train, y_train)"
   ]
  },
  {
   "cell_type": "code",
   "execution_count": 38,
   "metadata": {},
   "outputs": [
    {
     "data": {
      "text/plain": [
       "0.8336874051593324"
      ]
     },
     "execution_count": 38,
     "metadata": {},
     "output_type": "execute_result"
    }
   ],
   "source": [
    "pipe.score(X_test, y_test)"
   ]
  },
  {
   "cell_type": "code",
   "execution_count": 39,
   "metadata": {},
   "outputs": [],
   "source": [
    "# Referred to CountVectorizer documentation: https://scikit-learn.org/stable/modules/generated/sklearn.feature_extraction.text.CountVectorizer.html\n",
    "# Set up parameters of pipeline\n",
    "pipe_params = {\n",
    "    'cvec__max_features' : [100, 500, 800, 1000],\n",
    "    'cvec__min_df' : [2, 3],\n",
    "    'cvec__max_df' : [.90, .95],\n",
    "    'cvec__ngram_range' : [(1,1) , (1,2)],\n",
    "    'cvec__stop_words': ['english', None]\n",
    "}"
   ]
  },
  {
   "cell_type": "code",
   "execution_count": 40,
   "metadata": {},
   "outputs": [],
   "source": [
    "# Instantiate GridSearchCV.\n",
    "\n",
    "gs = GridSearchCV(pipe, param_grid=pipe_params, cv=5)"
   ]
  },
  {
   "cell_type": "code",
   "execution_count": 41,
   "metadata": {},
   "outputs": [
    {
     "name": "stdout",
     "output_type": "stream",
     "text": [
      "Wall time: 1min\n"
     ]
    },
    {
     "data": {
      "text/plain": [
       "GridSearchCV(cv=5,\n",
       "             estimator=Pipeline(steps=[('cvec',\n",
       "                                        CountVectorizer(stop_words=['if', 'you',\n",
       "                                                                    'music',\n",
       "                                                                    'video',\n",
       "                                                                    'of',\n",
       "                                                                    '2020',\n",
       "                                                                    'the', 'in',\n",
       "                                                                    'this',\n",
       "                                                                    'is', 'hip',\n",
       "                                                                    'hop', 'mf',\n",
       "                                                                    'doom',\n",
       "                                                                    'fresh',\n",
       "                                                                    'album'])),\n",
       "                                       ('nb', MultinomialNB())]),\n",
       "             param_grid={'cvec__max_df': [0.9, 0.95],\n",
       "                         'cvec__max_features': [100, 500, 800, 1000],\n",
       "                         'cvec__min_df': [2, 3],\n",
       "                         'cvec__ngram_range': [(1, 1), (1, 2)],\n",
       "                         'cvec__stop_words': ['english', None]})"
      ]
     },
     "execution_count": 41,
     "metadata": {},
     "output_type": "execute_result"
    }
   ],
   "source": [
    "%%time\n",
    "# Fit the model\n",
    "gs.fit(X_train, y_train)"
   ]
  },
  {
   "cell_type": "code",
   "execution_count": 42,
   "metadata": {},
   "outputs": [
    {
     "data": {
      "text/plain": [
       "0.786963652645807"
      ]
     },
     "execution_count": 42,
     "metadata": {},
     "output_type": "execute_result"
    }
   ],
   "source": [
    "gs.best_score_"
   ]
  },
  {
   "cell_type": "code",
   "execution_count": 49,
   "metadata": {},
   "outputs": [
    {
     "data": {
      "text/plain": [
       "{'cvec__max_df': 0.9,\n",
       " 'cvec__max_features': 1000,\n",
       " 'cvec__min_df': 2,\n",
       " 'cvec__ngram_range': (1, 1),\n",
       " 'cvec__stop_words': None}"
      ]
     },
     "execution_count": 49,
     "metadata": {},
     "output_type": "execute_result"
    }
   ],
   "source": [
    "gs.best_params_"
   ]
  },
  {
   "cell_type": "markdown",
   "metadata": {},
   "source": [
    "The best performing parameters are shown above."
   ]
  },
  {
   "cell_type": "code",
   "execution_count": 50,
   "metadata": {},
   "outputs": [
    {
     "data": {
      "text/plain": [
       "0.8078935565854388"
      ]
     },
     "execution_count": 50,
     "metadata": {},
     "output_type": "execute_result"
    }
   ],
   "source": [
    "gs.score(X_train, y_train)"
   ]
  },
  {
   "cell_type": "code",
   "execution_count": 51,
   "metadata": {},
   "outputs": [
    {
     "data": {
      "text/plain": [
       "0.8006069802731411"
      ]
     },
     "execution_count": 51,
     "metadata": {},
     "output_type": "execute_result"
    }
   ],
   "source": [
    "gs.score(X_test, y_test)"
   ]
  },
  {
   "cell_type": "markdown",
   "metadata": {},
   "source": [
    "The training and testing score are extremely close to each, which indicates that the model works well with new data."
   ]
  },
  {
   "cell_type": "code",
   "execution_count": 52,
   "metadata": {},
   "outputs": [],
   "source": [
    "# Get predictions\n",
    "pred = gs.predict(X_test)\n",
    "\n",
    "# Save confusion matrix values\n",
    "tn, fp, fn, tp = confusion_matrix(y_test, pred).ravel()"
   ]
  },
  {
   "cell_type": "code",
   "execution_count": 67,
   "metadata": {},
   "outputs": [
    {
     "data": {
      "image/png": "[encoded data removed]",
      "text/plain": [
       "<Figure size 720x720 with 2 Axes>"
      ]
     },
     "metadata": {
      "needs_background": "light"
     },
     "output_type": "display_data"
    }
   ],
   "source": [
    "# View confusion matrix\n",
    "fig, ax = plt.subplots(figsize=(10, 10))\n",
    "plot_confusion_matrix(gs, X_test, y_test, cmap='Blues', values_format='d', ax=ax);"
   ]
  },
  {
   "cell_type": "markdown",
   "metadata": {},
   "source": [
    "A confusion matrix is a convenient way to visualize how our model performs. It describes the peformance of a classification model on a dataset for which the true and predicted values are known."
   ]
  },
  {
   "cell_type": "code",
   "execution_count": 54,
   "metadata": {},
   "outputs": [
    {
     "data": {
      "text/plain": [
       "0.8361650485436893"
      ]
     },
     "execution_count": 54,
     "metadata": {},
     "output_type": "execute_result"
    }
   ],
   "source": [
    "# Calculate the specificity\n",
    "spec = tn / (tn + fp)\n",
    "\n",
    "spec"
   ]
  },
  {
   "cell_type": "markdown",
   "metadata": {},
   "source": [
    "Specificity is the true negative rate. In other words, it's the proportion of correctly defined negative values. This is important because maximizing for specificty also means minimizing false positives."
   ]
  },
  {
   "cell_type": "markdown",
   "metadata": {},
   "source": [
    "### Logistic Regression with CountVectorizer"
   ]
  },
  {
   "cell_type": "code",
   "execution_count": 29,
   "metadata": {},
   "outputs": [
    {
     "name": "stdout",
     "output_type": "stream",
     "text": [
      "Wall time: 7min 38s\n"
     ]
    },
    {
     "data": {
      "text/plain": [
       "GridSearchCV(cv=5,\n",
       "             estimator=Pipeline(steps=[('cvec',\n",
       "                                        CountVectorizer(stop_words=['if', 'you',\n",
       "                                                                    'music',\n",
       "                                                                    'video',\n",
       "                                                                    'of',\n",
       "                                                                    '2020',\n",
       "                                                                    'the', 'in',\n",
       "                                                                    'this',\n",
       "                                                                    'is', 'hip',\n",
       "                                                                    'hop', 'mf',\n",
       "                                                                    'doom',\n",
       "                                                                    'fresh',\n",
       "                                                                    'album'])),\n",
       "                                       ('lr',\n",
       "                                        LogisticRegression(solver='liblinear'))]),\n",
       "             param_grid={'cvec__max_df': [0.7, 0.8, 0.9, 0.95],\n",
       "                         'cvec__max_features': [100, 500, 800, 1000],\n",
       "                         'cvec__min_df': [2, 3],\n",
       "                         'cvec__ngram_range': [(1, 1), (1, 2)],\n",
       "                         'cvec__stop_words': ['english', None],\n",
       "                         'lr__max_iter': [1000, 2000, 5000]})"
      ]
     },
     "execution_count": 29,
     "metadata": {},
     "output_type": "execute_result"
    }
   ],
   "source": [
    "%%time\n",
    "\n",
    "# Let's set a pipeline up with two stages:\n",
    "# 1. CountVectorizer (transformer)\n",
    "# 2. Logistic Regression (estimator)\n",
    "pipe_cv = Pipeline([\n",
    "    ('cvec', CountVectorizer(stop_words=['if', 'you', 'music', 'video', 'of', '2020', 'the',\n",
    "                                                       'in', 'this', 'is', 'hip', 'hop', 'mf', 'doom',\n",
    "                                                       'fresh', 'album'])),\n",
    "    ('lr', LogisticRegression(solver = 'liblinear')) # liblinear was used because the coef_ would not converge when using sag or saga, no matter how many times the max_iter was changed\n",
    "])\n",
    "\n",
    "# Define grid of parameters to GridSearch over.\n",
    "params_grid = {\n",
    "    'cvec__max_features': [100, 500, 800, 1000],\n",
    "    'cvec__stop_words': ['english', None],\n",
    "    'cvec__ngram_range': [(1,1), (1,2)],\n",
    "    'cvec__min_df' : [2, 3],\n",
    "    'cvec__max_df' : [0.7, 0.8, 0.9, .95],\n",
    "    'lr__max_iter' : [1000, 2000, 5000]\n",
    "}\n",
    "\n",
    "# GridSearch over pipeline with given grid of parameters.\n",
    "gs_cv = GridSearchCV(pipe_cv, params_grid, cv=5)\n",
    "\n",
    "# Fit model.\n",
    "gs_cv.fit(X_train, y_train)"
   ]
  },
  {
   "cell_type": "code",
   "execution_count": 30,
   "metadata": {},
   "outputs": [
    {
     "data": {
      "text/plain": [
       "0.8250547378691518"
      ]
     },
     "execution_count": 30,
     "metadata": {},
     "output_type": "execute_result"
    }
   ],
   "source": [
    "gs_cv.best_score_"
   ]
  },
  {
   "cell_type": "code",
   "execution_count": 31,
   "metadata": {},
   "outputs": [
    {
     "data": {
      "text/plain": [
       "{'cvec__max_df': 0.7,\n",
       " 'cvec__max_features': 1000,\n",
       " 'cvec__min_df': 3,\n",
       " 'cvec__ngram_range': (1, 2),\n",
       " 'cvec__stop_words': 'english',\n",
       " 'lr__max_iter': 1000}"
      ]
     },
     "execution_count": 31,
     "metadata": {},
     "output_type": "execute_result"
    }
   ],
   "source": [
    "gs_cv.best_params_"
   ]
  },
  {
   "cell_type": "code",
   "execution_count": 32,
   "metadata": {},
   "outputs": [
    {
     "data": {
      "text/plain": [
       "0.8624465811965812"
      ]
     },
     "execution_count": 32,
     "metadata": {},
     "output_type": "execute_result"
    }
   ],
   "source": [
    "gs_cv.score(X_train, y_train)"
   ]
  },
  {
   "cell_type": "code",
   "execution_count": 34,
   "metadata": {},
   "outputs": [
    {
     "data": {
      "text/plain": [
       "0.8173076923076923"
      ]
     },
     "execution_count": 34,
     "metadata": {},
     "output_type": "execute_result"
    }
   ],
   "source": [
    "gs_cv.score(X_test, y_test)"
   ]
  },
  {
   "cell_type": "markdown",
   "metadata": {},
   "source": [
    "Both the training and testing score in this case are higher than the previous scores. However, there is some distance between them, so this model is a little overfit."
   ]
  },
  {
   "cell_type": "code",
   "execution_count": 35,
   "metadata": {},
   "outputs": [
    {
     "data": {
      "text/plain": [
       "array([0, 0, 0, ..., 0, 1, 1], dtype=int64)"
      ]
     },
     "execution_count": 35,
     "metadata": {},
     "output_type": "execute_result"
    }
   ],
   "source": [
    "# Get predictions\n",
    "pred = gs_cv.predict(X_test)\n",
    "\n",
    "# Save confusion matrix values\n",
    "tn, fp, fn, tp = confusion_matrix(y_test, pred).ravel()\n",
    "pred"
   ]
  },
  {
   "cell_type": "code",
   "execution_count": 36,
   "metadata": {},
   "outputs": [
    {
     "data": {
      "image/png": "[encoded data removed]",
      "text/plain": [
       "<Figure size 720x720 with 2 Axes>"
      ]
     },
     "metadata": {
      "needs_background": "light"
     },
     "output_type": "display_data"
    }
   ],
   "source": [
    "# Plot confusion matrix\n",
    "fig, ax = plt.subplots(figsize=(10, 10))\n",
    "plot_confusion_matrix(gs_cv, X_test, y_test, cmap='Blues', values_format='d', ax=ax);"
   ]
  },
  {
   "cell_type": "code",
   "execution_count": 37,
   "metadata": {},
   "outputs": [
    {
     "data": {
      "text/plain": [
       "0.8020833333333334"
      ]
     },
     "execution_count": 37,
     "metadata": {},
     "output_type": "execute_result"
    }
   ],
   "source": [
    "# Calculate the specificity\n",
    "spec = tn / (tn + fp)\n",
    "\n",
    "spec"
   ]
  },
  {
   "cell_type": "markdown",
   "metadata": {},
   "source": [
    "### Multinomial Naive Bayes with TFIDFVectorizer"
   ]
  },
  {
   "cell_type": "code",
   "execution_count": 69,
   "metadata": {},
   "outputs": [],
   "source": [
    "# Let's set a pipeline up with two stages:\n",
    "# 1. TfidfVectorizer (transformer)\n",
    "# 2. MultinomialNB (estimator)\n",
    "tvec_pipe = Pipeline([\n",
    "    ('tvec' , TfidfVectorizer(stop_words=['if', 'you', 'music', 'video', 'of', '2020', 'the',\n",
    "                                                       'in', 'this', 'is', 'hip', 'hop', 'mf', 'doom',\n",
    "                                                       'fresh', 'album'])),\n",
    "    ('nb' , MultinomialNB()) # Estimator fit failed with GaussianNB so multinomial was used\n",
    "])"
   ]
  },
  {
   "cell_type": "code",
   "execution_count": 70,
   "metadata": {},
   "outputs": [],
   "source": [
    "# Set up parameters\n",
    "pipe_params_tvec = {\n",
    "    'tvec__max_features' : [100, 500, 800, 1000],\n",
    "    'tvec__stop_words' : [None, 'english'],\n",
    "    'tvec__ngram_range' : [(1,1), (1,2)],\n",
    "    'tvec__min_df' : [2, 3],\n",
    "    'tvec__max_df' : [.90, .95]\n",
    "}"
   ]
  },
  {
   "cell_type": "code",
   "execution_count": 71,
   "metadata": {},
   "outputs": [],
   "source": [
    "# Instantiate GridSearchCV.\n",
    "gs_tvec = GridSearchCV(tvec_pipe,\n",
    "                      pipe_params_tvec,\n",
    "                      cv = 5,\n",
    "                      verbose=1)"
   ]
  },
  {
   "cell_type": "code",
   "execution_count": 72,
   "metadata": {},
   "outputs": [
    {
     "name": "stdout",
     "output_type": "stream",
     "text": [
      "Fitting 5 folds for each of 64 candidates, totalling 320 fits\n"
     ]
    },
    {
     "name": "stderr",
     "output_type": "stream",
     "text": [
      "[Parallel(n_jobs=1)]: Using backend SequentialBackend with 1 concurrent workers.\n",
      "[Parallel(n_jobs=1)]: Done 320 out of 320 | elapsed:   59.9s finished\n"
     ]
    },
    {
     "name": "stdout",
     "output_type": "stream",
     "text": [
      "Wall time: 1min\n"
     ]
    }
   ],
   "source": [
    "%%time\n",
    "# Fit model\n",
    "gs_tfidf = gs_tvec.fit(X_train, y_train)"
   ]
  },
  {
   "cell_type": "code",
   "execution_count": 73,
   "metadata": {},
   "outputs": [
    {
     "data": {
      "text/plain": [
       "0.8102855434295111"
      ]
     },
     "execution_count": 73,
     "metadata": {},
     "output_type": "execute_result"
    }
   ],
   "source": [
    "gs_tfidf.score(X_train, y_train)"
   ]
  },
  {
   "cell_type": "code",
   "execution_count": 74,
   "metadata": {},
   "outputs": [
    {
     "data": {
      "text/plain": [
       "0.7969650986342944"
      ]
     },
     "execution_count": 74,
     "metadata": {},
     "output_type": "execute_result"
    }
   ],
   "source": [
    "gs_tfidf.score(X_test, y_test)"
   ]
  },
  {
   "cell_type": "markdown",
   "metadata": {},
   "source": [
    "Although this model isn't very overfit, its testing score is lower than the scores of the previous models."
   ]
  },
  {
   "cell_type": "code",
   "execution_count": 80,
   "metadata": {},
   "outputs": [],
   "source": [
    "# Get predictions\n",
    "preds = gs_tvec.predict(X_test)\n",
    "\n",
    "# Save confusion matrix values\n",
    "tn, fp, fn, tp = confusion_matrix(y_test, preds).ravel()\n"
   ]
  },
  {
   "cell_type": "code",
   "execution_count": 81,
   "metadata": {},
   "outputs": [
    {
     "data": {
      "image/png": "[encoded data removed]",
      "text/plain": [
       "<Figure size 720x720 with 2 Axes>"
      ]
     },
     "metadata": {
      "needs_background": "light"
     },
     "output_type": "display_data"
    }
   ],
   "source": [
    "# Plot confusion matrix\n",
    "fig, ax = plt.subplots(figsize=(10, 10))\n",
    "plot_confusion_matrix(gs_tvec, X_test, y_test, cmap='Blues', values_format='d', ax=ax);"
   ]
  },
  {
   "cell_type": "code",
   "execution_count": 82,
   "metadata": {},
   "outputs": [
    {
     "data": {
      "text/plain": [
       "0.8422330097087378"
      ]
     },
     "execution_count": 82,
     "metadata": {},
     "output_type": "execute_result"
    }
   ],
   "source": [
    "# Calculate the specificity\n",
    "spec_tvec = tn / (tn + fp)\n",
    "\n",
    "spec_tvec"
   ]
  },
  {
   "cell_type": "markdown",
   "metadata": {},
   "source": [
    "### Random Forest Classifier with CountVectorizer"
   ]
  },
  {
   "cell_type": "code",
   "execution_count": 19,
   "metadata": {},
   "outputs": [],
   "source": [
    "X_train, X_test, y_train, y_test = train_test_split(X, y, random_state=35, stratify=y)"
   ]
  },
  {
   "cell_type": "code",
   "execution_count": 20,
   "metadata": {},
   "outputs": [],
   "source": [
    "rf = RandomForestClassifier()"
   ]
  },
  {
   "cell_type": "code",
   "execution_count": 21,
   "metadata": {},
   "outputs": [],
   "source": [
    "model_params = {}\n",
    "count = 0"
   ]
  },
  {
   "cell_type": "code",
   "execution_count": 25,
   "metadata": {},
   "outputs": [
    {
     "data": {
      "text/html": [
       "<div>\n",
       "<style scoped>\n",
       "    .dataframe tbody tr th:only-of-type {\n",
       "        vertical-align: middle;\n",
       "    }\n",
       "\n",
       "    .dataframe tbody tr th {\n",
       "        vertical-align: top;\n",
       "    }\n",
       "\n",
       "    .dataframe thead th {\n",
       "        text-align: right;\n",
       "    }\n",
       "</style>\n",
       "<table border=\"1\" class=\"dataframe\">\n",
       "  <thead>\n",
       "    <tr style=\"text-align: right;\">\n",
       "      <th></th>\n",
       "      <th>rf__ccp_alpha</th>\n",
       "      <th>rf__max_depth</th>\n",
       "      <th>rf__n_estimators</th>\n",
       "      <th>score</th>\n",
       "    </tr>\n",
       "  </thead>\n",
       "  <tbody>\n",
       "    <tr>\n",
       "      <th>model_1</th>\n",
       "      <td>0</td>\n",
       "      <td>None</td>\n",
       "      <td>75</td>\n",
       "      <td>0.79621</td>\n",
       "    </tr>\n",
       "    <tr>\n",
       "      <th>model_2</th>\n",
       "      <td>0</td>\n",
       "      <td>None</td>\n",
       "      <td>75</td>\n",
       "      <td>0.79621</td>\n",
       "    </tr>\n",
       "  </tbody>\n",
       "</table>\n",
       "</div>"
      ],
      "text/plain": [
       "         rf__ccp_alpha rf__max_depth  rf__n_estimators    score\n",
       "model_1              0          None                75  0.79621\n",
       "model_2              0          None                75  0.79621"
      ]
     },
     "execution_count": 25,
     "metadata": {},
     "output_type": "execute_result"
    }
   ],
   "source": [
    "# Let's set a pipeline up with two stages:\n",
    "# 1. CountVectorizer (transformer)\n",
    "# 2. RandomForestClassifier (estimator)\n",
    "pipe_rf = Pipeline([\n",
    "    ('cv', CountVectorizer(stop_words=['if', 'you', 'music', 'video', 'of', '2020', 'the',\n",
    "                                                       'in', 'this', 'is', 'hip', 'hop', 'mf', 'doom',\n",
    "                                                       'fresh', 'album'])),\n",
    "    ('rf', RandomForestClassifier(random_state=33, n_jobs=6))\n",
    "])\n",
    "\n",
    "# Set up parameters\n",
    "params = {\n",
    "    'rf__n_estimators' : [50, 75, 100, 150],\n",
    "    #'rf__max_features' : [None, 'auto', 'log2'],\n",
    "    'rf__max_depth' : [None, 3, 4, 5, 6],\n",
    "    'rf__ccp_alpha' : [0, 0.0001, 0.01, 0.1]\n",
    "#     'n_estimators': [100, 150, 200],\n",
    "#     'max_depth': [None, 1, 2, 3, 4, 5]\n",
    "}\n",
    "\n",
    "gs = GridSearchCV(pipe_rf, param_grid=params, cv=5)\n",
    "\n",
    "# Fit model\n",
    "gs.fit(X_train, y_train)\n",
    "\n",
    "count += 1\n",
    "\n",
    "gs.best_params_['score'] = gs.best_score_\n",
    "model_params[f\"model_{count}\"] = gs.best_params_\n",
    "\n",
    "model_df = pd.DataFrame.from_dict(model_params, orient='index')\n",
    "model_df"
   ]
  },
  {
   "cell_type": "code",
   "execution_count": 26,
   "metadata": {},
   "outputs": [
    {
     "data": {
      "text/plain": [
       "0.9949252136752137"
      ]
     },
     "execution_count": 26,
     "metadata": {},
     "output_type": "execute_result"
    }
   ],
   "source": [
    "gs.score(X_train, y_train)"
   ]
  },
  {
   "cell_type": "code",
   "execution_count": 27,
   "metadata": {},
   "outputs": [
    {
     "data": {
      "text/plain": [
       "0.8052884615384616"
      ]
     },
     "execution_count": 27,
     "metadata": {},
     "output_type": "execute_result"
    }
   ],
   "source": [
    "gs.score(X_test, y_test)"
   ]
  },
  {
   "cell_type": "markdown",
   "metadata": {},
   "source": [
    "This model is very overfit, as shown by the difference between the training and testing score."
   ]
  },
  {
   "cell_type": "code",
   "execution_count": 40,
   "metadata": {},
   "outputs": [],
   "source": [
    "# Get predictions\n",
    "preds = gs.predict(X_test)\n",
    "\n",
    "# Save confusion matrix values\n",
    "tn, fp, fn, tp = confusion_matrix(y_test, preds).ravel()\n"
   ]
  },
  {
   "cell_type": "code",
   "execution_count": 39,
   "metadata": {},
   "outputs": [
    {
     "data": {
      "image/png": "[encoded data removed]",
      "text/plain": [
       "<Figure size 720x720 with 2 Axes>"
      ]
     },
     "metadata": {
      "needs_background": "light"
     },
     "output_type": "display_data"
    }
   ],
   "source": [
    "# Plot confusion matrix\n",
    "fig, ax = plt.subplots(figsize=(10, 10))\n",
    "plot_confusion_matrix(gs, X_test, y_test, cmap='Blues', values_format='d', ax=ax);"
   ]
  },
  {
   "cell_type": "code",
   "execution_count": 41,
   "metadata": {},
   "outputs": [
    {
     "data": {
      "text/plain": [
       "0.8349358974358975"
      ]
     },
     "execution_count": 41,
     "metadata": {},
     "output_type": "execute_result"
    }
   ],
   "source": [
    "# Calculate the specificity\n",
    "spec = tn / (tn + fp)\n",
    "\n",
    "spec"
   ]
  },
  {
   "cell_type": "markdown",
   "metadata": {},
   "source": [
    "## Conclusion"
   ]
  },
  {
   "cell_type": "markdown",
   "metadata": {},
   "source": [
    "The Logistic Regression with a CountVectorizer performed the best and should be used when predicting the origin of a post. Although the model is slightly overfit, it scored well in comparison to the other models that were tested. Also, the specificity isn't the highest of all the models, but it isn't much lower than the rest and it's still considerably high. The writers at The Fader would find their research process to be less time-consuming once they implement this model."
   ]
  },
  {
   "cell_type": "markdown",
   "metadata": {},
   "source": [
    "## Recommendations"
   ]
  },
  {
   "cell_type": "markdown",
   "metadata": {},
   "source": [
    "- Experiment with more parameters when testing this model to see if they increase/decrease the scores\n",
    "- Add more stopwords to see if this improves the accuracy\n",
    "- Test model on less popular subreddits to see if the model performs as well and adjust accordingly if it doesn't\n",
    "- Preprocessing and modeling with a more powerful computer would produce results much sooner and reduce crashes and MemoryErrors\n",
    "- Explore other methods such as boosting"
   ]
  }
 ],
 "metadata": {
  "kernelspec": {
   "display_name": "Python 3",
   "language": "python",
   "name": "python3"
  },
  "language_info": {
   "codemirror_mode": {
    "name": "ipython",
    "version": 3
   },
   "file_extension": ".py",
   "mimetype": "text/x-python",
   "name": "python",
   "nbconvert_exporter": "python",
   "pygments_lexer": "ipython3",
   "version": "3.8.3"
  }
 },
 "nbformat": 4,
 "nbformat_minor": 4
}
